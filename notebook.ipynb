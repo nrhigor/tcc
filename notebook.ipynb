{
 "cells": [
  {
   "cell_type": "markdown",
   "metadata": {},
   "source": [
    "# Transformers\n",
    "\n",
    "Criação de um <i>transformer</i> do zero, a partir da biblioteca `PyTorch`."
   ]
  },
  {
   "cell_type": "code",
   "execution_count": null,
   "metadata": {},
   "outputs": [],
   "source": [
    "%pip install torch"
   ]
  },
  {
   "cell_type": "markdown",
   "metadata": {},
   "source": [
    "## Imports"
   ]
  },
  {
   "cell_type": "code",
   "execution_count": null,
   "metadata": {},
   "outputs": [],
   "source": [
    "import math\n",
    "import copy\n",
    "\n",
    "import torch\n",
    "import torch.nn as nn\n",
    "import torch.optim as optim\n",
    "import torch.utils.data as data"
   ]
  },
  {
   "cell_type": "markdown",
   "metadata": {},
   "source": [
    "## Classes\n",
    "Aqui, são declaradas as classes que irão representar os blocos da figura da arquitetura do <i>transformer</i>.\n",
    "\n",
    "![Transformer Architecture](./content/attention_architecture.png)"
   ]
  },
  {
   "cell_type": "markdown",
   "metadata": {},
   "source": [
    "### <i>Multi-Head Attention</i>\n",
    "\n",
    "Uma função de attention pode ser descrita como um mapeamento entre uma query (consulta) e um conjunto de pares key-value (chave-valor) para uma saída, onde a consulta, chaves, valores e saída são todos vetores. A saída é calculada como uma soma ponderada dos valores, onde o peso atribuído a cada valor é computado por uma função de compatibilidade entre a consulta e a chave correspondente. O bloco de multi-head attention aplica múltiplas atenções em paralelo, capturando diferentes aspectos das relações entre as palavras. Isso permite que o modelo aprenda representações mais ricas e complexas da sequência de entrada. A soma ponderada pode ser visualizada como um produto interno entre vetores, que de acordo com o artigo \"Attention is All You Need\", é representada por:\n",
    "\n",
    "$Attention(Q, K, V) = softmax(\\frac{QK^T}{\\sqrt{d_k}})V$\n",
    "\n",
    "Os parâmetros de entrada são:\n",
    "* `d_model`: dimensão da entrada;\n",
    "* `num_heads`: número de <i>attention heads</i> para separar a entrada;"
   ]
  },
  {
   "cell_type": "code",
   "execution_count": null,
   "metadata": {},
   "outputs": [],
   "source": [
    "class MultiHeadAttention(nn.Module):\n",
    "    def __init__(self, d_model, num_heads):\n",
    "        super(MultiHeadAttention, self).__init__()\n",
    "\n",
    "        # ---| Verifica se o valor da dimensão da entrada é divisivel pelo número de attention heads\n",
    "        assert d_model % num_heads == 0, \"d_model deve ser divisível por num_heads\"\n",
    "        \n",
    "        # ---| Dimensões\n",
    "        self.d_model   = d_model              \n",
    "        self.num_heads = num_heads            \n",
    "        self.d_k       = d_model // num_heads # dimensão das matrizes de pesos Q, K, V\n",
    "        \n",
    "        # ---| Criação das matrizes de pesos Q, K, V\n",
    "        self.Wq = nn.Linear(d_model, d_model)\n",
    "        self.Wk = nn.Linear(d_model, d_model)\n",
    "        self.Wv = nn.Linear(d_model, d_model)\n",
    "        self.Wo = nn.Linear(d_model, d_model)\n",
    "        \n",
    "    def scaled_dot_product_attention(self, Q, K, V, mask=None):\n",
    "        \"\"\" \n",
    "            Este método aplica a função attention citada acima.\n",
    "            Primeiro, faz-se o produto interno entre Q e K transposto, dividido pela raiz de d_k.\n",
    "            Uma flag `mask` também pode ser passada em caso de precisar-se de masked attention. \n",
    "            Após o produto interno, aplica-se a função softmax para normalizar os dados e, por fim, multiplica-se esse resultado pela matriz V.\n",
    "        \"\"\"\n",
    "\n",
    "        attention = torch.matmul(Q, K.transpose(-2, -1)) / math.sqrt(self.d_k)\n",
    "        if mask is not None: attention = attention.masked_fill(mask == 0, -1e9)\n",
    "        attention_after_softmax = torch.softmax(attention, dim=-1)\n",
    "        return torch.matmul(attention_after_softmax, V)\n",
    "        \n",
    "    def split_heads(self, x):\n",
    "        \"\"\"\n",
    "            Esse método reformata a entrada para a forma (batch_size, num_heads, seq_length, d_k). \n",
    "            Isso permite ao modelo processar múltiplas heads of attention simultaneamente.\n",
    "        \"\"\"\n",
    "        batch_size, seq_length, d_model = x.size()\n",
    "        return x.view(batch_size, seq_length, self.num_heads, self.d_k).transpose(1, 2)\n",
    "        \n",
    "    def combine_heads(self, x):\n",
    "        \"\"\" \n",
    "            Após aplicar a atenção em cada head separadamente, \n",
    "            esse método combina os resultados de volta em um único tensor com a forma (batch_size, sequence_length, d_model).\n",
    "        \"\"\"\n",
    "        batch_size, _, sequence_length, d_k = x.size()\n",
    "        return x.transpose(1, 2).contiguous().view(batch_size, sequence_length, self.d_model)\n",
    "        \n",
    "    def forward(self, Q, K, V, mask=None):\n",
    "        \"\"\" Este método cria as matrizes Q, K, V, aplica a função attention e cria a matriz de saída com a combinação da matriz attention com a matriz de saída. \"\"\"\n",
    "        Q = self.split_heads(self.Wq(Q))\n",
    "        K = self.split_heads(self.Wk(K))\n",
    "        V = self.split_heads(self.Wv(V))\n",
    "        \n",
    "        attn_output = self.scaled_dot_product_attention(Q, K, V, mask)\n",
    "        \n",
    "        return self.Wo(self.combine_heads(attn_output))"
   ]
  }
 ],
 "metadata": {
  "kernelspec": {
   "display_name": ".tcc_venv",
   "language": "python",
   "name": "python3"
  },
  "language_info": {
   "codemirror_mode": {
    "name": "ipython",
    "version": 3
   },
   "file_extension": ".py",
   "mimetype": "text/x-python",
   "name": "python",
   "nbconvert_exporter": "python",
   "pygments_lexer": "ipython3",
   "version": "3.10.11"
  }
 },
 "nbformat": 4,
 "nbformat_minor": 2
}
